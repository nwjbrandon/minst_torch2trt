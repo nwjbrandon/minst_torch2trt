{
 "cells": [
  {
   "cell_type": "code",
   "execution_count": 1,
   "id": "innocent-battlefield",
   "metadata": {},
   "outputs": [],
   "source": [
    "import os\n",
    "import re\n",
    "import copy\n",
    "import itertools\n",
    "import warnings\n",
    "\n",
    "import numpy as np\n",
    "\n",
    "import torch\n",
    "import torchvision\n",
    "import torch.nn as nn\n",
    "import torch.nn.functional as F\n",
    "import torch.optim as optim\n",
    "from torch2trt import torch2trt\n",
    "from torch2trt import TRTModule\n",
    "\n",
    "warnings.filterwarnings(\"ignore\")\n",
    "\n",
    "random_state = 42"
   ]
  },
  {
   "cell_type": "code",
   "execution_count": 2,
   "id": "therapeutic-milan",
   "metadata": {},
   "outputs": [],
   "source": [
    "n_epochs = 3\n",
    "batch_size_train = 64\n",
    "batch_size_test = 1000\n",
    "learning_rate = 0.01\n",
    "momentum = 0.5\n",
    "log_interval = 10\n",
    "\n",
    "random_seed = 1"
   ]
  },
  {
   "cell_type": "code",
   "execution_count": 3,
   "id": "textile-frame",
   "metadata": {},
   "outputs": [],
   "source": [
    "train_loader = torch.utils.data.DataLoader(\n",
    "  torchvision.datasets.MNIST('/files/', train=True, download=True,\n",
    "                             transform=torchvision.transforms.Compose([\n",
    "                               torchvision.transforms.ToTensor(),\n",
    "                               torchvision.transforms.Normalize(\n",
    "                                 (0.1307,), (0.3081,))\n",
    "                             ])),\n",
    "  batch_size=batch_size_train, shuffle=True)\n",
    "\n",
    "test_loader = torch.utils.data.DataLoader(\n",
    "  torchvision.datasets.MNIST('/files/', train=False, download=True,\n",
    "                             transform=torchvision.transforms.Compose([\n",
    "                               torchvision.transforms.ToTensor(),\n",
    "                               torchvision.transforms.Normalize(\n",
    "                                 (0.1307,), (0.3081,))\n",
    "                             ])),\n",
    "  batch_size=batch_size_test, shuffle=True)"
   ]
  },
  {
   "cell_type": "code",
   "execution_count": 4,
   "id": "ceramic-valve",
   "metadata": {},
   "outputs": [
    {
     "data": {
      "text/plain": [
       "tensor([[ 0.1809,  0.1472,  0.2091,  0.0225, -0.0389,  0.0180,  0.0023,  0.0622,\n",
       "         -0.1889,  0.0579]], grad_fn=<SliceBackward>)"
      ]
     },
     "execution_count": 4,
     "metadata": {},
     "output_type": "execute_result"
    }
   ],
   "source": [
    "class Net(nn.Module):\n",
    "    def __init__(self):\n",
    "        super(Net, self).__init__()\n",
    "        self.conv1 = nn.Conv2d(1, 20, 5, 1)\n",
    "        self.conv2 = nn.Conv2d(20, 50, 5, 1)\n",
    "        self.fc1 = nn.Linear(4*4*50, 500)\n",
    "        self.fc2 = nn.Linear(500, 10)\n",
    "\n",
    "    def forward(self, x):\n",
    "        x = F.relu(self.conv1(x))\n",
    "        x = F.max_pool2d(x, 2, 2)\n",
    "        x = F.relu(self.conv2(x))\n",
    "        x = F.max_pool2d(x, 2, 2)\n",
    "        x = x.view(-1, 4*4*50)\n",
    "        x = F.relu(self.fc1(x))\n",
    "        x = self.fc2(x)\n",
    "        return x\n",
    "    \n",
    "inputs, labels = next(iter(train_loader))\n",
    "model = Net()\n",
    "model(inputs)[:1]"
   ]
  },
  {
   "cell_type": "code",
   "execution_count": 5,
   "id": "racial-freight",
   "metadata": {},
   "outputs": [
    {
     "name": "stdout",
     "output_type": "stream",
     "text": [
      "[0/1] train_loss: 0.18067 valid_loss: 0.04064 train_accuracy: 0.94338 valid_accuracy: 0.98580\n",
      "Finished Training\n"
     ]
    }
   ],
   "source": [
    "patience = 10\n",
    "n_epochs = 1\n",
    "\n",
    "model = Net()\n",
    "model.cuda()\n",
    "criterion = nn.CrossEntropyLoss()\n",
    "optimizer = optim.SGD(model.parameters(), lr=0.01, momentum=0.9)\n",
    "\n",
    "train_losses = []\n",
    "valid_losses = []\n",
    "\n",
    "avg_train_losses = []\n",
    "avg_valid_losses = [] \n",
    "train_accuracies = []\n",
    "valid_accuracies = []\n",
    "\n",
    "for epoch in range(n_epochs):  # loop over the dataset multiple times\n",
    "    train_correct = 0\n",
    "    train_total = 0\n",
    "    model.train()\n",
    "    for i, data in enumerate(train_loader, 0):\n",
    "\n",
    "        inputs, labels = data\n",
    "        inputs = inputs.to(\"cuda\")\n",
    "        labels = labels.to(\"cuda\")\n",
    "\n",
    "        optimizer.zero_grad()\n",
    "\n",
    "        outputs = model(inputs.float())\n",
    "\n",
    "        loss = criterion(outputs, labels)\n",
    "        loss.backward()\n",
    "        optimizer.step()\n",
    "\n",
    "        train_losses.append(loss.item())\n",
    "\n",
    "        _, predicted = torch.max(outputs.data, 1)\n",
    "        train_total += labels.size(0)\n",
    "        train_correct += (predicted == labels).sum().item()\n",
    "\n",
    "    valid_correct = 0\n",
    "    valid_total = 0\n",
    "    model.eval()\n",
    "    for data in test_loader:\n",
    "        inputs, labels = data\n",
    "        inputs = inputs.to(\"cuda\")\n",
    "        labels = labels.to(\"cuda\")\n",
    "\n",
    "        outputs = model(inputs.float())\n",
    "        loss = criterion(outputs, labels)\n",
    "        valid_losses.append(loss.item())\n",
    "\n",
    "        _, predicted = torch.max(outputs.data, 1)\n",
    "        valid_total += labels.size(0)\n",
    "        valid_correct += (predicted == labels).sum().item()\n",
    "\n",
    "    # calculate average loss over an epoch\n",
    "    train_loss = np.average(train_losses)\n",
    "    valid_loss = np.average(valid_losses)\n",
    "    train_accuracy = train_correct / train_total\n",
    "    valid_accuracy = valid_correct / valid_total\n",
    "\n",
    "    avg_train_losses.append(train_loss)\n",
    "    avg_valid_losses.append(valid_loss)\n",
    "    train_accuracies.append(train_accuracy)\n",
    "    valid_accuracies.append(valid_accuracy)\n",
    "        \n",
    "    log_message = f'[{str(epoch)}/{str(n_epochs)}] train_loss: {train_loss:.5f} valid_loss: {valid_loss:.5f} train_accuracy: {train_accuracy:.5f} valid_accuracy: {valid_accuracy:.5f}'\n",
    "    print(log_message)\n",
    "\n",
    "    # clear lists to track next epoch\n",
    "    train_losses = []\n",
    "    valid_losses = []\n",
    "\n",
    "print('Finished Training')"
   ]
  },
  {
   "cell_type": "code",
   "execution_count": 6,
   "id": "hidden-video",
   "metadata": {},
   "outputs": [
    {
     "data": {
      "text/plain": [
       "0.9858"
      ]
     },
     "execution_count": 6,
     "metadata": {},
     "output_type": "execute_result"
    }
   ],
   "source": [
    "valid_correct = 0\n",
    "valid_total = 0\n",
    "model.eval()\n",
    "for data in test_loader:\n",
    "    inputs, labels = data\n",
    "    inputs = inputs.to(\"cuda\")\n",
    "    labels = labels.to(\"cuda\")\n",
    "\n",
    "    outputs = model(inputs.float())\n",
    "    loss = criterion(outputs, labels)\n",
    "    valid_losses.append(loss.item())\n",
    "\n",
    "    _, predicted = torch.max(outputs.data, 1)\n",
    "    valid_total += labels.size(0)\n",
    "    valid_correct += (predicted == labels).sum().item()\n",
    "\n",
    "valid_correct/valid_total"
   ]
  },
  {
   "cell_type": "code",
   "execution_count": 7,
   "id": "reverse-marker",
   "metadata": {},
   "outputs": [
    {
     "data": {
      "text/plain": [
       "0.9858"
      ]
     },
     "execution_count": 7,
     "metadata": {},
     "output_type": "execute_result"
    }
   ],
   "source": [
    "model_trt = copy.deepcopy(model)\n",
    "valid_correct = 0\n",
    "valid_total = 0\n",
    "model_trt.eval()\n",
    "for data in test_loader:\n",
    "    inputs, labels = data\n",
    "    inputs = inputs.to(\"cuda\")\n",
    "    labels = labels.to(\"cuda\")\n",
    "\n",
    "    outputs = model_trt(inputs.float())\n",
    "    loss = criterion(outputs, labels)\n",
    "    valid_losses.append(loss.item())\n",
    "\n",
    "    _, predicted = torch.max(outputs.data, 1)\n",
    "    valid_total += labels.size(0)\n",
    "    valid_correct += (predicted == labels).sum().item()\n",
    "\n",
    "valid_correct/valid_total"
   ]
  },
  {
   "cell_type": "code",
   "execution_count": 8,
   "id": "outside-terrain",
   "metadata": {},
   "outputs": [],
   "source": [
    "test_loader_trt = torch.utils.data.DataLoader(\n",
    "  torchvision.datasets.MNIST('/files/', train=False, download=True,\n",
    "                             transform=torchvision.transforms.Compose([\n",
    "                               torchvision.transforms.ToTensor(),\n",
    "                               torchvision.transforms.Normalize(\n",
    "                                 (0.1307,), (0.3081,))\n",
    "                             ])),\n",
    "  batch_size=1, shuffle=True)\n",
    "\n",
    "model_trt = model_trt.eval().cuda().half()\n",
    "inputs, labels = next(iter(test_loader_trt))\n",
    "inputs = inputs.cuda().half()\n",
    "\n",
    "model_trt = torch2trt(model_trt, [inputs], fp16_mode=True)"
   ]
  },
  {
   "cell_type": "code",
   "execution_count": 9,
   "id": "packed-panel",
   "metadata": {},
   "outputs": [
    {
     "data": {
      "text/plain": [
       "0.9858"
      ]
     },
     "execution_count": 9,
     "metadata": {},
     "output_type": "execute_result"
    }
   ],
   "source": [
    "valid_correct = 0\n",
    "valid_total = 0\n",
    "model_trt.eval()\n",
    "for data in test_loader_trt:\n",
    "    inputs, labels = data\n",
    "    inputs = inputs.to(\"cuda\")\n",
    "    labels = labels.to(\"cuda\")\n",
    "\n",
    "    outputs = model_trt(inputs.cuda().half())\n",
    "    loss = criterion(outputs, labels)\n",
    "    valid_losses.append(loss.item())\n",
    "\n",
    "    _, predicted = torch.max(outputs.data, 1)\n",
    "    valid_total += labels.size(0)\n",
    "    valid_correct += (predicted == labels).sum().item()\n",
    "\n",
    "valid_correct/valid_total"
   ]
  }
 ],
 "metadata": {
  "kernelspec": {
   "display_name": "Python 3",
   "language": "python",
   "name": "python3"
  },
  "language_info": {
   "codemirror_mode": {
    "name": "ipython",
    "version": 3
   },
   "file_extension": ".py",
   "mimetype": "text/x-python",
   "name": "python",
   "nbconvert_exporter": "python",
   "pygments_lexer": "ipython3",
   "version": "3.6.9"
  }
 },
 "nbformat": 4,
 "nbformat_minor": 5
}
